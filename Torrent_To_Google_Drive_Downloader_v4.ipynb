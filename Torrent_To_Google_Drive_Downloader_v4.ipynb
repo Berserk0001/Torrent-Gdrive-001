{
  "nbformat": 4,
  "nbformat_minor": 0,
  "metadata": {
    "colab": {
      "name": "Torrent To Google Drive Downloader v4",
      "provenance": [],
      "collapsed_sections": [],
      "toc_visible": true,
      "include_colab_link": true
    },
    "kernelspec": {
      "name": "python3",
      "display_name": "Python 3"
    }
  },
  "cells": [
    {
      "cell_type": "markdown",
      "metadata": {
        "id": "view-in-github",
        "colab_type": "text"
      },
      "source": [
        "<a href=\"https://colab.research.google.com/github/ethanaobrien/Torrent-To-Google-Drive-Downloader-v4/blob/master/Torrent_To_Google_Drive_Downloader_v4.ipynb\" target=\"_parent\"><img src=\"https://colab.research.google.com/assets/colab-badge.svg\" alt=\"Open In Colab\"/></a>"
      ]
    },
    {
      "cell_type": "markdown",
      "metadata": {
        "id": "tdA5uJLjLH6s"
      },
      "source": [
        "# Torrent To Google Drive Downloader v4"
      ]
    },
    {
      "cell_type": "markdown",
      "metadata": {
        "id": "Vtjdr_KuLDhm"
      },
      "source": [
        "### Mount Google Drive\n",
        "To stream files we need to mount Google Drive."
      ]
    },
    {
      "cell_type": "code",
      "metadata": {
        "id": "FkIxwFhEKyht",
        "colab": {
          "base_uri": "https://localhost:8080/"
        },
        "outputId": "64bf026d-4a66-4bd1-c8df-5a375625d321"
      },
      "source": [
        "from google.colab import drive\n",
        "drive.mount('/content/drive')"
      ],
      "execution_count": null,
      "outputs": [
        {
          "output_type": "stream",
          "text": [
            "Mounted at /content/drive\n"
          ],
          "name": "stdout"
        }
      ]
    },
    {
      "cell_type": "markdown",
      "metadata": {
        "id": "AFjfIfd_LPOV"
      },
      "source": [
        "###Dependency\n",
        "https://www.libtorrent.org/"
      ]
    },
    {
      "cell_type": "code",
      "metadata": {
        "id": "OXKje70hLRBR",
        "colab": {
          "base_uri": "https://localhost:8080/"
        },
        "outputId": "24d4107c-9bc5-40cc-a295-728d8e045a7a"
      },
      "source": [
        "!python -m pip install --upgrade pip setuptools wheel && python -m pip install lbry-libtorrent && apt install python3-libtorrent"
      ],
      "execution_count": null,
      "outputs": [
        {
          "output_type": "stream",
          "text": [
            "Collecting pip\n",
            "\u001b[?25l  Downloading https://files.pythonhosted.org/packages/fe/ef/60d7ba03b5c442309ef42e7d69959f73aacccd0d86008362a681c4698e83/pip-21.0.1-py3-none-any.whl (1.5MB)\n",
            "\u001b[K     |████████████████████████████████| 1.5MB 8.6MB/s \n",
            "\u001b[?25hRequirement already up-to-date: setuptools in /usr/local/lib/python3.7/dist-packages (54.2.0)\n",
            "Requirement already up-to-date: wheel in /usr/local/lib/python3.7/dist-packages (0.36.2)\n",
            "Installing collected packages: pip\n",
            "  Found existing installation: pip 19.3.1\n",
            "    Uninstalling pip-19.3.1:\n",
            "      Successfully uninstalled pip-19.3.1\n",
            "Successfully installed pip-21.0.1\n",
            "Collecting lbry-libtorrent\n",
            "  Downloading lbry_libtorrent-1.2.4-py3-none-any.whl (2.4 MB)\n",
            "\u001b[K     |████████████████████████████████| 2.4 MB 9.2 MB/s \n",
            "\u001b[?25hInstalling collected packages: lbry-libtorrent\n",
            "Successfully installed lbry-libtorrent-1.2.4\n",
            "Reading package lists... Done\n",
            "Building dependency tree       \n",
            "Reading state information... Done\n",
            "The following additional packages will be installed:\n",
            "  libtorrent-rasterbar9\n",
            "Suggested packages:\n",
            "  libtorrent-rasterbar-dbg\n",
            "The following NEW packages will be installed:\n",
            "  libtorrent-rasterbar9 python3-libtorrent\n",
            "0 upgraded, 2 newly installed, 0 to remove and 30 not upgraded.\n",
            "Need to get 1,569 kB of archives.\n",
            "After this operation, 5,718 kB of additional disk space will be used.\n",
            "Get:1 http://archive.ubuntu.com/ubuntu bionic/universe amd64 libtorrent-rasterbar9 amd64 1.1.5-1build1 [1,258 kB]\n",
            "Get:2 http://archive.ubuntu.com/ubuntu bionic/universe amd64 python3-libtorrent amd64 1.1.5-1build1 [310 kB]\n",
            "Fetched 1,569 kB in 1s (1,065 kB/s)\n",
            "Selecting previously unselected package libtorrent-rasterbar9.\n",
            "(Reading database ... 160980 files and directories currently installed.)\n",
            "Preparing to unpack .../libtorrent-rasterbar9_1.1.5-1build1_amd64.deb ...\n",
            "Unpacking libtorrent-rasterbar9 (1.1.5-1build1) ...\n",
            "Selecting previously unselected package python3-libtorrent.\n",
            "Preparing to unpack .../python3-libtorrent_1.1.5-1build1_amd64.deb ...\n",
            "Unpacking python3-libtorrent (1.1.5-1build1) ...\n",
            "Setting up libtorrent-rasterbar9 (1.1.5-1build1) ...\n",
            "Setting up python3-libtorrent (1.1.5-1build1) ...\n",
            "Processing triggers for libc-bin (2.27-3ubuntu1.2) ...\n",
            "/sbin/ldconfig.real: /usr/local/lib/python3.7/dist-packages/ideep4py/lib/libmkldnn.so.0 is not a symbolic link\n",
            "\n"
          ],
          "name": "stdout"
        }
      ]
    },
    {
      "cell_type": "markdown",
      "metadata": {
        "id": "dM700Xs3LUaV"
      },
      "source": [
        "### Code to download torrent"
      ]
    },
    {
      "cell_type": "code",
      "metadata": {
        "id": "sA6Us8NFLXAR",
        "colab": {
          "base_uri": "https://localhost:8080/"
        },
        "outputId": "434f1858-265d-4f38-9b79-e4fcbe53a1bd"
      },
      "source": [
        "import libtorrent as lt\n",
        "import time\n",
        "import datetime\n",
        "\n",
        "zipp = input(\"Input 'YES' to zip the torrent and place it in your drive. Otherwise, leave blank.\")\n",
        "if zipp == 'YES':  \n",
        "    zippnamee = input(\"Input name you would like for the zip file.\")\n",
        "    import shutil\n",
        "    import os\n",
        "    ses = lt.session()\n",
        "    ses.listen_on(6881, 6891)\n",
        "    params = {\n",
        "       'save_path': '/content/drive/MyDrive/Torrent/temp',\n",
        "       'storage_mode': lt.storage_mode_t(2),\n",
        "       }\n",
        "    link = input(\"Input Torrent Link or Magnet and Press Enter\")\n",
        "    print(link)\n",
        "\n",
        "    handle = lt.add_magnet_uri(ses, link, params)\n",
        "      #change the 0 to a 1 to download sequential - this sequential option is only if you selected zip. If not, scroll farther down.\n",
        "    handle.set_sequential_download(0)\n",
        "\n",
        "    ses.start_dht()\n",
        "    begin = time.time()\n",
        "    print(datetime.datetime.now())\n",
        "\n",
        "    print ('Downloading Metadata...')\n",
        "    while (not handle.has_metadata()):\n",
        "        time.sleep(1)\n",
        "    print ('Got Metadata, Starting Torrent Download...')\n",
        "\n",
        "    print(\"Starting\", handle.name())\n",
        "\n",
        "    while (handle.status().state != lt.torrent_status.seeding):\n",
        "        s = handle.status()\n",
        "        state_str = ['queued', 'checking', 'downloading metadata', \\\n",
        "                'downloading', 'finished', 'seeding', 'allocating']\n",
        "        print ('%.2f%% complete (down: %.1f kb/s up: %.1f kB/s peers: %d) %s ' % \\\n",
        "                (s.progress * 100, s.download_rate / 1000, s.upload_rate / 1000, \\\n",
        "                s.num_peers, state_str[s.state]))\n",
        "        time.sleep(5)\n",
        "\n",
        "    end = time.time()\n",
        "    print(handle.name(), \"COMPLETE\")\n",
        "\n",
        "    print(\"Elapsed Time: \",int((end-begin)//60),\"min :\", int((end-begin)%60), \"sec\")\n",
        "\n",
        "    print(datetime.datetime.now())\n",
        "\n",
        "    print(\"now time to zip\")\n",
        "\n",
        "    print(\"zipping\")\n",
        "    zippcommpleeteeenameeeu = '/content/drive/MyDrive/Torrent/' + zippnamee\n",
        "    shutil.make_archive(zippcommpleeteeenameeeu, 'zip', '/content/drive/MyDrive/Torrent/temp/')\n",
        "    shutil.rmtree('/content/drive/MyDrive/Torrent/temp/')\n",
        "    print('all done')\n",
        "\n",
        "else:  \n",
        "    ses = lt.session()\n",
        "    ses.listen_on(6881, 6891)\n",
        "    params = {\n",
        "       'save_path': '/content/drive/MyDrive/Torrent/',\n",
        "       'storage_mode': lt.storage_mode_t(2),\n",
        "       }\n",
        "    link = input(\"Input Torrent Link or Magnet and Press Enter\")\n",
        "    print(link)\n",
        "\n",
        "    handle = lt.add_magnet_uri(ses, link, params)\n",
        "      ##change the 0 to a 1 to download sequential\n",
        "    handle.set_sequential_download(0)\n",
        "\n",
        "    ses.start_dht()\n",
        "    begin = time.time()\n",
        "    print(datetime.datetime.now())\n",
        "\n",
        "    print ('Downloading Metadata...')\n",
        "    while (not handle.has_metadata()):\n",
        "        time.sleep(1)\n",
        "    print ('Got Metadata, Starting Torrent Download...')\n",
        "\n",
        "    print(\"Starting\", handle.name())\n",
        "\n",
        "    while (handle.status().state != lt.torrent_status.seeding):\n",
        "        s = handle.status()\n",
        "        state_str = ['queued', 'checking', 'downloading metadata', \\\n",
        "                'downloading', 'finished', 'seeding', 'allocating']\n",
        "        print ('%.2f%% complete (down: %.1f kb/s up: %.1f kB/s peers: %d) %s ' % \\\n",
        "                (s.progress * 100, s.download_rate / 1000, s.upload_rate / 1000, \\\n",
        "                s.num_peers, state_str[s.state]))\n",
        "        time.sleep(5)\n",
        "\n",
        "    end = time.time()\n",
        "    print(handle.name(), \"COMPLETE\")\n",
        "\n",
        "    print(\"Elapsed Time: \",int((end-begin)//60),\"min :\", int((end-begin)%60), \"sec\")\n",
        "\n",
        "    print(datetime.datetime.now())"
      ],
      "execution_count": null,
      "outputs": [
        {
          "output_type": "stream",
          "text": [
            "Input 'YES' to zip the torrent and place it in your drive. Otherwise, leave blank.\n",
            "Input Torrent Link or Magnet and Press Entermagnet:?xt=urn:btih:4e94840141facfefe5eb35d758c1dda72692cc1f&dn=%5BOhys-Raws%5D%20Tensura%20Nikki%20Tensei%20Shitara%20Slime%20Datta%20Ken%20-%2001%20%28BS11%201280x720%20x264%20AAC%29.mp4&tr=http%3A%2F%2Fnyaa.tracker.wf%3A7777%2Fannounce&tr=udp%3A%2F%2Fopen.stealth.si%3A80%2Fannounce&tr=udp%3A%2F%2Ftracker.opentrackr.org%3A1337%2Fannounce&tr=udp%3A%2F%2Fexodus.desync.com%3A6969%2Fannounce&tr=udp%3A%2F%2Ftracker.torrent.eu.org%3A451%2Fannounce\n",
            "magnet:?xt=urn:btih:4e94840141facfefe5eb35d758c1dda72692cc1f&dn=%5BOhys-Raws%5D%20Tensura%20Nikki%20Tensei%20Shitara%20Slime%20Datta%20Ken%20-%2001%20%28BS11%201280x720%20x264%20AAC%29.mp4&tr=http%3A%2F%2Fnyaa.tracker.wf%3A7777%2Fannounce&tr=udp%3A%2F%2Fopen.stealth.si%3A80%2Fannounce&tr=udp%3A%2F%2Ftracker.opentrackr.org%3A1337%2Fannounce&tr=udp%3A%2F%2Fexodus.desync.com%3A6969%2Fannounce&tr=udp%3A%2F%2Ftracker.torrent.eu.org%3A451%2Fannounce\n",
            "2021-04-07 20:29:55.303732\n",
            "Downloading Metadata...\n",
            "Got Metadata, Starting Torrent Download...\n",
            "Starting [Ohys-Raws] Tensura Nikki Tensei Shitara Slime Datta Ken - 01 (BS11 1280x720 x264 AAC).mp4\n",
            "7.73% complete (down: 2.9 kb/s up: 1.0 kB/s peers: 18) checking \n",
            "[Ohys-Raws] Tensura Nikki Tensei Shitara Slime Datta Ken - 01 (BS11 1280x720 x264 AAC).mp4 COMPLETE\n",
            "Elapsed Time:  0 min : 7 sec\n",
            "2021-04-07 20:30:02.309270\n"
          ],
          "name": "stdout"
        }
      ]
    }
  ]
}